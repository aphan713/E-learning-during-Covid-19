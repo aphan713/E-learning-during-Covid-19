{
 "cells": [
  {
   "cell_type": "code",
   "execution_count": 176,
   "id": "becf6126",
   "metadata": {},
   "outputs": [],
   "source": [
    "from sklearn import preprocessing\n",
    "from sklearn.linear_model import Ridge\n",
    "from sklearn.model_selection import cross_validate\n",
    "from sklearn.pipeline import make_pipeline\n",
    "\n",
    "import pandas as pd\n",
    "import numpy as np\n",
    "from tqdm import tqdm\n",
    "\n",
    "from pathlib import Path\n",
    "import random"
   ]
  },
  {
   "cell_type": "code",
   "execution_count": 4,
   "id": "94783622",
   "metadata": {},
   "outputs": [],
   "source": [
    "PROCESSED_DATA_DIR_PATH = Path('.') / '..' / 'data' / 'processed_data'"
   ]
  },
  {
   "cell_type": "markdown",
   "id": "bd52c143",
   "metadata": {},
   "source": [
    "<a id='baselines'></a>\n",
    "\n",
    "# BASELINE MODELS\n",
    "\n",
    "Average the entire year of data for each district. Same model is used for all states.\n",
    "\n",
    "This yields only ~173 rows, so we use k-fold Cross Validation to measure model performance.\n",
    "\n",
    "### Test Score Baselines\n",
    "\n",
    "Each baseline trains 4 Ridge regression models ($\\alpha = 0.5$), one for each comination of 4th & 8th grade, math & reading test scores, using 5- and 10-fold cross-validation. We select the better performing of the two cross-validations (on the training set) and select the corresponding test results.\n",
    "\n",
    "- ___Baseline 1___: Uses engagement data only. ([Model](#baseline1_model) / [Results](#baseline1_results))\n",
    "- ___Baseline 2___: Uses locale type only. Outperformed Baseline 1. ([Model](#baseline2_model) / [Results](#baseline2_results))"
   ]
  },
  {
   "cell_type": "code",
   "execution_count": 37,
   "id": "e7db5ceb",
   "metadata": {},
   "outputs": [],
   "source": [
    "INPUT_FEATURES = ['engagement;pct_access',\n",
    "                  'engagement;engagement_index',\n",
    "                  'districts;locale',\n",
    "                  'districts;state',\n",
    "                 ]\n",
    "\n",
    "TARGET_FEATURES = ['testscores;math_4_2022',\n",
    "                   'testscores;math_8_2022',\n",
    "                   'testscores;reading_4_2022',\n",
    "                   'testscores;reading_8_2022',\n",
    "                  ]"
   ]
  },
  {
   "cell_type": "code",
   "execution_count": 253,
   "id": "244fc73c",
   "metadata": {},
   "outputs": [
    {
     "name": "stderr",
     "output_type": "stream",
     "text": [
      "100%|██████████████████████████████████████████████████████████████████████████████████| 23/23 [00:19<00:00,  1.17it/s]\n"
     ]
    }
   ],
   "source": [
    "dataset = None\n",
    "\n",
    "for state_data_path in tqdm(PROCESSED_DATA_DIR_PATH.glob('*.gz'), total=23):\n",
    "    df = pd.read_pickle(state_data_path)\n",
    "\n",
    "    df_temp = df.groupby(['time', 'district_id']).first()\n",
    "\n",
    "    columns_to_average = ['engagement;pct_access', 'engagement;engagement_index']\n",
    "    columns_to_reset = ['products;Sector(s)', 'products;Primary Essential Function']\n",
    "\n",
    "    df_temp[columns_to_average] = df.groupby(['time', 'district_id']).mean()[columns_to_average]\n",
    "    df_temp[columns_to_reset] = None\n",
    "\n",
    "    df = df_temp\n",
    "    del df_temp\n",
    "    \n",
    "    for district_id in df.index.levels[1]:\n",
    "        df_temp = df.loc[(slice(None), district_id), :]\n",
    "        row = df_temp.iloc[0][INPUT_FEATURES + TARGET_FEATURES]\n",
    "        row.loc[columns_to_average] = df_temp[columns_to_average].mean()\n",
    "        row['n_days'] = len(df_temp)\n",
    "        if dataset is None:\n",
    "            dataset = pd.DataFrame(row).T.reset_index(level=0)\n",
    "        else:\n",
    "            dataset = pd.concat([dataset, pd.DataFrame(row).T.reset_index(level=0)])\n",
    "            \n",
    "for l in ['City', 'Suburb', 'Rural', 'Town']:\n",
    "    dataset['districts;locale_{}'.format(l.lower())] = dataset['districts;locale'].apply(lambda x: int(x == l))\n",
    "dataset = dataset.drop(['level_0', 'districts;locale'], axis=1)\n"
   ]
  },
  {
   "cell_type": "code",
   "execution_count": 242,
   "id": "737c0018",
   "metadata": {},
   "outputs": [],
   "source": [
    "def print_results(results_dict, target_feature, scoring_metrics_list,\n",
    "                  splits=['train']):\n",
    "    d = {}\n",
    "    for scoring_metric in scoring_metrics_list:\n",
    "        for split in splits:\n",
    "            m = '{}_{}'.format(split, scoring_metric)\n",
    "            r = round(np.mean(results_dict[m]), 4)\n",
    "            if scoring_metric.startswith('neg'):\n",
    "                r = -r\n",
    "                m = '{}_{}'.format(split, scoring_metric[4:])\n",
    "\n",
    "            d[m] = {target_feature: r}\n",
    "    display(pd.DataFrame(d).T)\n",
    "        "
   ]
  },
  {
   "cell_type": "markdown",
   "id": "4e4a2351",
   "metadata": {},
   "source": [
    "<a id='baseline1_model'></a>\n",
    "\n",
    "## Baseline 1: Predict Math and Reading Scores from Engagement Data Only\n",
    "\n",
    "[(Back to top)](#baselines)"
   ]
  },
  {
   "cell_type": "code",
   "execution_count": 243,
   "id": "2e02b63b",
   "metadata": {},
   "outputs": [],
   "source": [
    "scoring_metrics_list = ['r2', 'neg_root_mean_squared_error']\n",
    "\n",
    "five_fold_results = []\n",
    "ten_fold_results = []\n",
    "\n",
    "for target in ['testscores;math_4_2022', \n",
    "               'testscores;math_8_2022', \n",
    "               'testscores;reading_4_2022', \n",
    "               'testscores;reading_8_2022']:\n",
    "    \n",
    "    X = np.array(dataset[['engagement;pct_access', 'engagement;engagement_index']]).astype(float)\n",
    "    Y = np.array(dataset[[target]]).astype(float).squeeze(-1)\n",
    "    \n",
    "    X = X[~np.isnan(Y)]\n",
    "    Y = Y[~np.isnan(Y)]\n",
    "    \n",
    "    model = make_pipeline(preprocessing.StandardScaler(), \n",
    "                          Ridge(alpha=0.5))\n",
    "    \n",
    "    results_dict = cross_validate(model, X, Y, \n",
    "                                  cv=5, \n",
    "                                  scoring=scoring_metrics_list,\n",
    "                                  return_train_score=True)\n",
    "    five_fold_results.append((results_dict, target, scoring_metrics_list))\n",
    "\n",
    "    results_dict = cross_validate(model, X, Y, \n",
    "                                  cv=10, \n",
    "                                  scoring=scoring_metrics_list,\n",
    "                                  return_train_score=True)\n",
    "    ten_fold_results.append((results_dict, target, scoring_metrics_list))\n",
    "    "
   ]
  },
  {
   "cell_type": "markdown",
   "id": "b3d3de9a",
   "metadata": {},
   "source": [
    "### 5-Fold Training Results"
   ]
  },
  {
   "cell_type": "code",
   "execution_count": 244,
   "id": "ee340065",
   "metadata": {},
   "outputs": [
    {
     "data": {
      "text/html": [
       "<div>\n",
       "<style scoped>\n",
       "    .dataframe tbody tr th:only-of-type {\n",
       "        vertical-align: middle;\n",
       "    }\n",
       "\n",
       "    .dataframe tbody tr th {\n",
       "        vertical-align: top;\n",
       "    }\n",
       "\n",
       "    .dataframe thead th {\n",
       "        text-align: right;\n",
       "    }\n",
       "</style>\n",
       "<table border=\"1\" class=\"dataframe\">\n",
       "  <thead>\n",
       "    <tr style=\"text-align: right;\">\n",
       "      <th></th>\n",
       "      <th>testscores;math_4_2022</th>\n",
       "    </tr>\n",
       "  </thead>\n",
       "  <tbody>\n",
       "    <tr>\n",
       "      <th>train_r2</th>\n",
       "      <td>0.0289</td>\n",
       "    </tr>\n",
       "    <tr>\n",
       "      <th>train_root_mean_squared_error</th>\n",
       "      <td>7.0879</td>\n",
       "    </tr>\n",
       "  </tbody>\n",
       "</table>\n",
       "</div>"
      ],
      "text/plain": [
       "                               testscores;math_4_2022\n",
       "train_r2                                       0.0289\n",
       "train_root_mean_squared_error                  7.0879"
      ]
     },
     "metadata": {},
     "output_type": "display_data"
    },
    {
     "data": {
      "text/html": [
       "<div>\n",
       "<style scoped>\n",
       "    .dataframe tbody tr th:only-of-type {\n",
       "        vertical-align: middle;\n",
       "    }\n",
       "\n",
       "    .dataframe tbody tr th {\n",
       "        vertical-align: top;\n",
       "    }\n",
       "\n",
       "    .dataframe thead th {\n",
       "        text-align: right;\n",
       "    }\n",
       "</style>\n",
       "<table border=\"1\" class=\"dataframe\">\n",
       "  <thead>\n",
       "    <tr style=\"text-align: right;\">\n",
       "      <th></th>\n",
       "      <th>testscores;math_8_2022</th>\n",
       "    </tr>\n",
       "  </thead>\n",
       "  <tbody>\n",
       "    <tr>\n",
       "      <th>train_r2</th>\n",
       "      <td>0.0298</td>\n",
       "    </tr>\n",
       "    <tr>\n",
       "      <th>train_root_mean_squared_error</th>\n",
       "      <td>6.8963</td>\n",
       "    </tr>\n",
       "  </tbody>\n",
       "</table>\n",
       "</div>"
      ],
      "text/plain": [
       "                               testscores;math_8_2022\n",
       "train_r2                                       0.0298\n",
       "train_root_mean_squared_error                  6.8963"
      ]
     },
     "metadata": {},
     "output_type": "display_data"
    },
    {
     "data": {
      "text/html": [
       "<div>\n",
       "<style scoped>\n",
       "    .dataframe tbody tr th:only-of-type {\n",
       "        vertical-align: middle;\n",
       "    }\n",
       "\n",
       "    .dataframe tbody tr th {\n",
       "        vertical-align: top;\n",
       "    }\n",
       "\n",
       "    .dataframe thead th {\n",
       "        text-align: right;\n",
       "    }\n",
       "</style>\n",
       "<table border=\"1\" class=\"dataframe\">\n",
       "  <thead>\n",
       "    <tr style=\"text-align: right;\">\n",
       "      <th></th>\n",
       "      <th>testscores;reading_4_2022</th>\n",
       "    </tr>\n",
       "  </thead>\n",
       "  <tbody>\n",
       "    <tr>\n",
       "      <th>train_r2</th>\n",
       "      <td>0.0210</td>\n",
       "    </tr>\n",
       "    <tr>\n",
       "      <th>train_root_mean_squared_error</th>\n",
       "      <td>7.4763</td>\n",
       "    </tr>\n",
       "  </tbody>\n",
       "</table>\n",
       "</div>"
      ],
      "text/plain": [
       "                               testscores;reading_4_2022\n",
       "train_r2                                          0.0210\n",
       "train_root_mean_squared_error                     7.4763"
      ]
     },
     "metadata": {},
     "output_type": "display_data"
    },
    {
     "data": {
      "text/html": [
       "<div>\n",
       "<style scoped>\n",
       "    .dataframe tbody tr th:only-of-type {\n",
       "        vertical-align: middle;\n",
       "    }\n",
       "\n",
       "    .dataframe tbody tr th {\n",
       "        vertical-align: top;\n",
       "    }\n",
       "\n",
       "    .dataframe thead th {\n",
       "        text-align: right;\n",
       "    }\n",
       "</style>\n",
       "<table border=\"1\" class=\"dataframe\">\n",
       "  <thead>\n",
       "    <tr style=\"text-align: right;\">\n",
       "      <th></th>\n",
       "      <th>testscores;reading_8_2022</th>\n",
       "    </tr>\n",
       "  </thead>\n",
       "  <tbody>\n",
       "    <tr>\n",
       "      <th>train_r2</th>\n",
       "      <td>0.0207</td>\n",
       "    </tr>\n",
       "    <tr>\n",
       "      <th>train_root_mean_squared_error</th>\n",
       "      <td>5.8421</td>\n",
       "    </tr>\n",
       "  </tbody>\n",
       "</table>\n",
       "</div>"
      ],
      "text/plain": [
       "                               testscores;reading_8_2022\n",
       "train_r2                                          0.0207\n",
       "train_root_mean_squared_error                     5.8421"
      ]
     },
     "metadata": {},
     "output_type": "display_data"
    }
   ],
   "source": [
    "for results in five_fold_results:\n",
    "    print_results(*results)"
   ]
  },
  {
   "cell_type": "markdown",
   "id": "74210b94",
   "metadata": {},
   "source": [
    "### 10-Fold Training Results"
   ]
  },
  {
   "cell_type": "code",
   "execution_count": 245,
   "id": "a85682c3",
   "metadata": {
    "scrolled": false
   },
   "outputs": [
    {
     "data": {
      "text/html": [
       "<div>\n",
       "<style scoped>\n",
       "    .dataframe tbody tr th:only-of-type {\n",
       "        vertical-align: middle;\n",
       "    }\n",
       "\n",
       "    .dataframe tbody tr th {\n",
       "        vertical-align: top;\n",
       "    }\n",
       "\n",
       "    .dataframe thead th {\n",
       "        text-align: right;\n",
       "    }\n",
       "</style>\n",
       "<table border=\"1\" class=\"dataframe\">\n",
       "  <thead>\n",
       "    <tr style=\"text-align: right;\">\n",
       "      <th></th>\n",
       "      <th>testscores;math_4_2022</th>\n",
       "    </tr>\n",
       "  </thead>\n",
       "  <tbody>\n",
       "    <tr>\n",
       "      <th>train_r2</th>\n",
       "      <td>0.0189</td>\n",
       "    </tr>\n",
       "    <tr>\n",
       "      <th>train_root_mean_squared_error</th>\n",
       "      <td>7.1278</td>\n",
       "    </tr>\n",
       "  </tbody>\n",
       "</table>\n",
       "</div>"
      ],
      "text/plain": [
       "                               testscores;math_4_2022\n",
       "train_r2                                       0.0189\n",
       "train_root_mean_squared_error                  7.1278"
      ]
     },
     "metadata": {},
     "output_type": "display_data"
    },
    {
     "data": {
      "text/html": [
       "<div>\n",
       "<style scoped>\n",
       "    .dataframe tbody tr th:only-of-type {\n",
       "        vertical-align: middle;\n",
       "    }\n",
       "\n",
       "    .dataframe tbody tr th {\n",
       "        vertical-align: top;\n",
       "    }\n",
       "\n",
       "    .dataframe thead th {\n",
       "        text-align: right;\n",
       "    }\n",
       "</style>\n",
       "<table border=\"1\" class=\"dataframe\">\n",
       "  <thead>\n",
       "    <tr style=\"text-align: right;\">\n",
       "      <th></th>\n",
       "      <th>testscores;math_8_2022</th>\n",
       "    </tr>\n",
       "  </thead>\n",
       "  <tbody>\n",
       "    <tr>\n",
       "      <th>train_r2</th>\n",
       "      <td>0.0253</td>\n",
       "    </tr>\n",
       "    <tr>\n",
       "      <th>train_root_mean_squared_error</th>\n",
       "      <td>6.9224</td>\n",
       "    </tr>\n",
       "  </tbody>\n",
       "</table>\n",
       "</div>"
      ],
      "text/plain": [
       "                               testscores;math_8_2022\n",
       "train_r2                                       0.0253\n",
       "train_root_mean_squared_error                  6.9224"
      ]
     },
     "metadata": {},
     "output_type": "display_data"
    },
    {
     "data": {
      "text/html": [
       "<div>\n",
       "<style scoped>\n",
       "    .dataframe tbody tr th:only-of-type {\n",
       "        vertical-align: middle;\n",
       "    }\n",
       "\n",
       "    .dataframe tbody tr th {\n",
       "        vertical-align: top;\n",
       "    }\n",
       "\n",
       "    .dataframe thead th {\n",
       "        text-align: right;\n",
       "    }\n",
       "</style>\n",
       "<table border=\"1\" class=\"dataframe\">\n",
       "  <thead>\n",
       "    <tr style=\"text-align: right;\">\n",
       "      <th></th>\n",
       "      <th>testscores;reading_4_2022</th>\n",
       "    </tr>\n",
       "  </thead>\n",
       "  <tbody>\n",
       "    <tr>\n",
       "      <th>train_r2</th>\n",
       "      <td>0.0139</td>\n",
       "    </tr>\n",
       "    <tr>\n",
       "      <th>train_root_mean_squared_error</th>\n",
       "      <td>7.5127</td>\n",
       "    </tr>\n",
       "  </tbody>\n",
       "</table>\n",
       "</div>"
      ],
      "text/plain": [
       "                               testscores;reading_4_2022\n",
       "train_r2                                          0.0139\n",
       "train_root_mean_squared_error                     7.5127"
      ]
     },
     "metadata": {},
     "output_type": "display_data"
    },
    {
     "data": {
      "text/html": [
       "<div>\n",
       "<style scoped>\n",
       "    .dataframe tbody tr th:only-of-type {\n",
       "        vertical-align: middle;\n",
       "    }\n",
       "\n",
       "    .dataframe tbody tr th {\n",
       "        vertical-align: top;\n",
       "    }\n",
       "\n",
       "    .dataframe thead th {\n",
       "        text-align: right;\n",
       "    }\n",
       "</style>\n",
       "<table border=\"1\" class=\"dataframe\">\n",
       "  <thead>\n",
       "    <tr style=\"text-align: right;\">\n",
       "      <th></th>\n",
       "      <th>testscores;reading_8_2022</th>\n",
       "    </tr>\n",
       "  </thead>\n",
       "  <tbody>\n",
       "    <tr>\n",
       "      <th>train_r2</th>\n",
       "      <td>0.0161</td>\n",
       "    </tr>\n",
       "    <tr>\n",
       "      <th>train_root_mean_squared_error</th>\n",
       "      <td>5.8630</td>\n",
       "    </tr>\n",
       "  </tbody>\n",
       "</table>\n",
       "</div>"
      ],
      "text/plain": [
       "                               testscores;reading_8_2022\n",
       "train_r2                                          0.0161\n",
       "train_root_mean_squared_error                     5.8630"
      ]
     },
     "metadata": {},
     "output_type": "display_data"
    }
   ],
   "source": [
    "for results in ten_fold_results:\n",
    "    print_results(*results)"
   ]
  },
  {
   "cell_type": "markdown",
   "id": "d3d95172",
   "metadata": {},
   "source": [
    "Five-fold outperformed ten-fold (though neither did very well). We check the test performance:"
   ]
  },
  {
   "cell_type": "markdown",
   "id": "ede568a1",
   "metadata": {},
   "source": [
    "<a id='baseline1_results'></a>\n",
    "\n",
    "### Baseline 1 Testing Results\n",
    "\n",
    "[(Back to top)](#baselines)"
   ]
  },
  {
   "cell_type": "code",
   "execution_count": 246,
   "id": "52ea39ec",
   "metadata": {
    "scrolled": false
   },
   "outputs": [
    {
     "data": {
      "text/html": [
       "<div>\n",
       "<style scoped>\n",
       "    .dataframe tbody tr th:only-of-type {\n",
       "        vertical-align: middle;\n",
       "    }\n",
       "\n",
       "    .dataframe tbody tr th {\n",
       "        vertical-align: top;\n",
       "    }\n",
       "\n",
       "    .dataframe thead th {\n",
       "        text-align: right;\n",
       "    }\n",
       "</style>\n",
       "<table border=\"1\" class=\"dataframe\">\n",
       "  <thead>\n",
       "    <tr style=\"text-align: right;\">\n",
       "      <th></th>\n",
       "      <th>testscores;math_4_2022</th>\n",
       "    </tr>\n",
       "  </thead>\n",
       "  <tbody>\n",
       "    <tr>\n",
       "      <th>test_r2</th>\n",
       "      <td>-0.0974</td>\n",
       "    </tr>\n",
       "    <tr>\n",
       "      <th>test_root_mean_squared_error</th>\n",
       "      <td>7.2542</td>\n",
       "    </tr>\n",
       "  </tbody>\n",
       "</table>\n",
       "</div>"
      ],
      "text/plain": [
       "                              testscores;math_4_2022\n",
       "test_r2                                      -0.0974\n",
       "test_root_mean_squared_error                  7.2542"
      ]
     },
     "metadata": {},
     "output_type": "display_data"
    },
    {
     "data": {
      "text/html": [
       "<div>\n",
       "<style scoped>\n",
       "    .dataframe tbody tr th:only-of-type {\n",
       "        vertical-align: middle;\n",
       "    }\n",
       "\n",
       "    .dataframe tbody tr th {\n",
       "        vertical-align: top;\n",
       "    }\n",
       "\n",
       "    .dataframe thead th {\n",
       "        text-align: right;\n",
       "    }\n",
       "</style>\n",
       "<table border=\"1\" class=\"dataframe\">\n",
       "  <thead>\n",
       "    <tr style=\"text-align: right;\">\n",
       "      <th></th>\n",
       "      <th>testscores;math_8_2022</th>\n",
       "    </tr>\n",
       "  </thead>\n",
       "  <tbody>\n",
       "    <tr>\n",
       "      <th>test_r2</th>\n",
       "      <td>-0.1050</td>\n",
       "    </tr>\n",
       "    <tr>\n",
       "      <th>test_root_mean_squared_error</th>\n",
       "      <td>7.0224</td>\n",
       "    </tr>\n",
       "  </tbody>\n",
       "</table>\n",
       "</div>"
      ],
      "text/plain": [
       "                              testscores;math_8_2022\n",
       "test_r2                                      -0.1050\n",
       "test_root_mean_squared_error                  7.0224"
      ]
     },
     "metadata": {},
     "output_type": "display_data"
    },
    {
     "data": {
      "text/html": [
       "<div>\n",
       "<style scoped>\n",
       "    .dataframe tbody tr th:only-of-type {\n",
       "        vertical-align: middle;\n",
       "    }\n",
       "\n",
       "    .dataframe tbody tr th {\n",
       "        vertical-align: top;\n",
       "    }\n",
       "\n",
       "    .dataframe thead th {\n",
       "        text-align: right;\n",
       "    }\n",
       "</style>\n",
       "<table border=\"1\" class=\"dataframe\">\n",
       "  <thead>\n",
       "    <tr style=\"text-align: right;\">\n",
       "      <th></th>\n",
       "      <th>testscores;reading_4_2022</th>\n",
       "    </tr>\n",
       "  </thead>\n",
       "  <tbody>\n",
       "    <tr>\n",
       "      <th>test_r2</th>\n",
       "      <td>-0.1797</td>\n",
       "    </tr>\n",
       "    <tr>\n",
       "      <th>test_root_mean_squared_error</th>\n",
       "      <td>7.8074</td>\n",
       "    </tr>\n",
       "  </tbody>\n",
       "</table>\n",
       "</div>"
      ],
      "text/plain": [
       "                              testscores;reading_4_2022\n",
       "test_r2                                         -0.1797\n",
       "test_root_mean_squared_error                     7.8074"
      ]
     },
     "metadata": {},
     "output_type": "display_data"
    },
    {
     "data": {
      "text/html": [
       "<div>\n",
       "<style scoped>\n",
       "    .dataframe tbody tr th:only-of-type {\n",
       "        vertical-align: middle;\n",
       "    }\n",
       "\n",
       "    .dataframe tbody tr th {\n",
       "        vertical-align: top;\n",
       "    }\n",
       "\n",
       "    .dataframe thead th {\n",
       "        text-align: right;\n",
       "    }\n",
       "</style>\n",
       "<table border=\"1\" class=\"dataframe\">\n",
       "  <thead>\n",
       "    <tr style=\"text-align: right;\">\n",
       "      <th></th>\n",
       "      <th>testscores;reading_8_2022</th>\n",
       "    </tr>\n",
       "  </thead>\n",
       "  <tbody>\n",
       "    <tr>\n",
       "      <th>test_r2</th>\n",
       "      <td>-0.1293</td>\n",
       "    </tr>\n",
       "    <tr>\n",
       "      <th>test_root_mean_squared_error</th>\n",
       "      <td>5.9837</td>\n",
       "    </tr>\n",
       "  </tbody>\n",
       "</table>\n",
       "</div>"
      ],
      "text/plain": [
       "                              testscores;reading_8_2022\n",
       "test_r2                                         -0.1293\n",
       "test_root_mean_squared_error                     5.9837"
      ]
     },
     "metadata": {},
     "output_type": "display_data"
    }
   ],
   "source": [
    "for results in five_fold_results:\n",
    "    print_results(*results, splits=['test'])"
   ]
  },
  {
   "cell_type": "markdown",
   "id": "0639972d",
   "metadata": {},
   "source": [
    "<a id='baseline2_model'></a>\n",
    "\n",
    "## Baseline 2: Predict Math and Reading Scores from Locale Type Only\n",
    "\n",
    "[(Back to top)](#baselines)"
   ]
  },
  {
   "cell_type": "code",
   "execution_count": 249,
   "id": "9cf28c48",
   "metadata": {},
   "outputs": [],
   "source": [
    "scoring_metrics_list = ['r2', 'neg_root_mean_squared_error']\n",
    "\n",
    "five_fold_results = []\n",
    "ten_fold_results = []\n",
    "\n",
    "for target in ['testscores;math_4_2022', \n",
    "               'testscores;math_8_2022', \n",
    "               'testscores;reading_4_2022', \n",
    "               'testscores;reading_8_2022']:\n",
    "    \n",
    "    X = np.array(dataset[['districts;locale_city', \n",
    "                          'districts;locale_suburb', \n",
    "                          'districts;locale_town',\n",
    "                          'districts;locale_rural']]).astype(float)\n",
    "    Y = np.array(dataset[[target]]).astype(float).squeeze(-1)\n",
    "    \n",
    "    X = X[~np.isnan(Y)]\n",
    "    Y = Y[~np.isnan(Y)]\n",
    "    \n",
    "    model = make_pipeline(preprocessing.StandardScaler(), \n",
    "                          Ridge(alpha=0.5))\n",
    "    \n",
    "    results_dict = cross_validate(model, X, Y, \n",
    "                                  cv=5, \n",
    "                                  scoring=scoring_metrics_list,\n",
    "                                  return_train_score=True)\n",
    "    five_fold_results.append((results_dict, target, scoring_metrics_list))\n",
    "\n",
    "    results_dict = cross_validate(model, X, Y, \n",
    "                                  cv=10, \n",
    "                                  scoring=scoring_metrics_list,\n",
    "                                  return_train_score=True)\n",
    "    ten_fold_results.append((results_dict, target, scoring_metrics_list))\n",
    "    "
   ]
  },
  {
   "cell_type": "markdown",
   "id": "6737b5a5",
   "metadata": {},
   "source": [
    "### 5-Fold Training Results"
   ]
  },
  {
   "cell_type": "code",
   "execution_count": 250,
   "id": "86f377e8",
   "metadata": {},
   "outputs": [
    {
     "data": {
      "text/html": [
       "<div>\n",
       "<style scoped>\n",
       "    .dataframe tbody tr th:only-of-type {\n",
       "        vertical-align: middle;\n",
       "    }\n",
       "\n",
       "    .dataframe tbody tr th {\n",
       "        vertical-align: top;\n",
       "    }\n",
       "\n",
       "    .dataframe thead th {\n",
       "        text-align: right;\n",
       "    }\n",
       "</style>\n",
       "<table border=\"1\" class=\"dataframe\">\n",
       "  <thead>\n",
       "    <tr style=\"text-align: right;\">\n",
       "      <th></th>\n",
       "      <th>testscores;math_4_2022</th>\n",
       "    </tr>\n",
       "  </thead>\n",
       "  <tbody>\n",
       "    <tr>\n",
       "      <th>train_r2</th>\n",
       "      <td>0.4656</td>\n",
       "    </tr>\n",
       "    <tr>\n",
       "      <th>train_root_mean_squared_error</th>\n",
       "      <td>5.2219</td>\n",
       "    </tr>\n",
       "  </tbody>\n",
       "</table>\n",
       "</div>"
      ],
      "text/plain": [
       "                               testscores;math_4_2022\n",
       "train_r2                                       0.4656\n",
       "train_root_mean_squared_error                  5.2219"
      ]
     },
     "metadata": {},
     "output_type": "display_data"
    },
    {
     "data": {
      "text/html": [
       "<div>\n",
       "<style scoped>\n",
       "    .dataframe tbody tr th:only-of-type {\n",
       "        vertical-align: middle;\n",
       "    }\n",
       "\n",
       "    .dataframe tbody tr th {\n",
       "        vertical-align: top;\n",
       "    }\n",
       "\n",
       "    .dataframe thead th {\n",
       "        text-align: right;\n",
       "    }\n",
       "</style>\n",
       "<table border=\"1\" class=\"dataframe\">\n",
       "  <thead>\n",
       "    <tr style=\"text-align: right;\">\n",
       "      <th></th>\n",
       "      <th>testscores;math_8_2022</th>\n",
       "    </tr>\n",
       "  </thead>\n",
       "  <tbody>\n",
       "    <tr>\n",
       "      <th>train_r2</th>\n",
       "      <td>0.5177</td>\n",
       "    </tr>\n",
       "    <tr>\n",
       "      <th>train_root_mean_squared_error</th>\n",
       "      <td>4.8540</td>\n",
       "    </tr>\n",
       "  </tbody>\n",
       "</table>\n",
       "</div>"
      ],
      "text/plain": [
       "                               testscores;math_8_2022\n",
       "train_r2                                       0.5177\n",
       "train_root_mean_squared_error                  4.8540"
      ]
     },
     "metadata": {},
     "output_type": "display_data"
    },
    {
     "data": {
      "text/html": [
       "<div>\n",
       "<style scoped>\n",
       "    .dataframe tbody tr th:only-of-type {\n",
       "        vertical-align: middle;\n",
       "    }\n",
       "\n",
       "    .dataframe tbody tr th {\n",
       "        vertical-align: top;\n",
       "    }\n",
       "\n",
       "    .dataframe thead th {\n",
       "        text-align: right;\n",
       "    }\n",
       "</style>\n",
       "<table border=\"1\" class=\"dataframe\">\n",
       "  <thead>\n",
       "    <tr style=\"text-align: right;\">\n",
       "      <th></th>\n",
       "      <th>testscores;reading_4_2022</th>\n",
       "    </tr>\n",
       "  </thead>\n",
       "  <tbody>\n",
       "    <tr>\n",
       "      <th>train_r2</th>\n",
       "      <td>0.3897</td>\n",
       "    </tr>\n",
       "    <tr>\n",
       "      <th>train_root_mean_squared_error</th>\n",
       "      <td>5.8842</td>\n",
       "    </tr>\n",
       "  </tbody>\n",
       "</table>\n",
       "</div>"
      ],
      "text/plain": [
       "                               testscores;reading_4_2022\n",
       "train_r2                                          0.3897\n",
       "train_root_mean_squared_error                     5.8842"
      ]
     },
     "metadata": {},
     "output_type": "display_data"
    },
    {
     "data": {
      "text/html": [
       "<div>\n",
       "<style scoped>\n",
       "    .dataframe tbody tr th:only-of-type {\n",
       "        vertical-align: middle;\n",
       "    }\n",
       "\n",
       "    .dataframe tbody tr th {\n",
       "        vertical-align: top;\n",
       "    }\n",
       "\n",
       "    .dataframe thead th {\n",
       "        text-align: right;\n",
       "    }\n",
       "</style>\n",
       "<table border=\"1\" class=\"dataframe\">\n",
       "  <thead>\n",
       "    <tr style=\"text-align: right;\">\n",
       "      <th></th>\n",
       "      <th>testscores;reading_8_2022</th>\n",
       "    </tr>\n",
       "  </thead>\n",
       "  <tbody>\n",
       "    <tr>\n",
       "      <th>train_r2</th>\n",
       "      <td>0.5095</td>\n",
       "    </tr>\n",
       "    <tr>\n",
       "      <th>train_root_mean_squared_error</th>\n",
       "      <td>4.1250</td>\n",
       "    </tr>\n",
       "  </tbody>\n",
       "</table>\n",
       "</div>"
      ],
      "text/plain": [
       "                               testscores;reading_8_2022\n",
       "train_r2                                          0.5095\n",
       "train_root_mean_squared_error                     4.1250"
      ]
     },
     "metadata": {},
     "output_type": "display_data"
    }
   ],
   "source": [
    "for results in five_fold_results:\n",
    "    print_results(*results)"
   ]
  },
  {
   "cell_type": "markdown",
   "id": "c37365de",
   "metadata": {},
   "source": [
    "### 10-Fold Training Results"
   ]
  },
  {
   "cell_type": "code",
   "execution_count": 251,
   "id": "596adf90",
   "metadata": {
    "scrolled": false
   },
   "outputs": [
    {
     "data": {
      "text/html": [
       "<div>\n",
       "<style scoped>\n",
       "    .dataframe tbody tr th:only-of-type {\n",
       "        vertical-align: middle;\n",
       "    }\n",
       "\n",
       "    .dataframe tbody tr th {\n",
       "        vertical-align: top;\n",
       "    }\n",
       "\n",
       "    .dataframe thead th {\n",
       "        text-align: right;\n",
       "    }\n",
       "</style>\n",
       "<table border=\"1\" class=\"dataframe\">\n",
       "  <thead>\n",
       "    <tr style=\"text-align: right;\">\n",
       "      <th></th>\n",
       "      <th>testscores;math_4_2022</th>\n",
       "    </tr>\n",
       "  </thead>\n",
       "  <tbody>\n",
       "    <tr>\n",
       "      <th>train_r2</th>\n",
       "      <td>0.4589</td>\n",
       "    </tr>\n",
       "    <tr>\n",
       "      <th>train_root_mean_squared_error</th>\n",
       "      <td>5.2873</td>\n",
       "    </tr>\n",
       "  </tbody>\n",
       "</table>\n",
       "</div>"
      ],
      "text/plain": [
       "                               testscores;math_4_2022\n",
       "train_r2                                       0.4589\n",
       "train_root_mean_squared_error                  5.2873"
      ]
     },
     "metadata": {},
     "output_type": "display_data"
    },
    {
     "data": {
      "text/html": [
       "<div>\n",
       "<style scoped>\n",
       "    .dataframe tbody tr th:only-of-type {\n",
       "        vertical-align: middle;\n",
       "    }\n",
       "\n",
       "    .dataframe tbody tr th {\n",
       "        vertical-align: top;\n",
       "    }\n",
       "\n",
       "    .dataframe thead th {\n",
       "        text-align: right;\n",
       "    }\n",
       "</style>\n",
       "<table border=\"1\" class=\"dataframe\">\n",
       "  <thead>\n",
       "    <tr style=\"text-align: right;\">\n",
       "      <th></th>\n",
       "      <th>testscores;math_8_2022</th>\n",
       "    </tr>\n",
       "  </thead>\n",
       "  <tbody>\n",
       "    <tr>\n",
       "      <th>train_r2</th>\n",
       "      <td>0.5142</td>\n",
       "    </tr>\n",
       "    <tr>\n",
       "      <th>train_root_mean_squared_error</th>\n",
       "      <td>4.8834</td>\n",
       "    </tr>\n",
       "  </tbody>\n",
       "</table>\n",
       "</div>"
      ],
      "text/plain": [
       "                               testscores;math_8_2022\n",
       "train_r2                                       0.5142\n",
       "train_root_mean_squared_error                  4.8834"
      ]
     },
     "metadata": {},
     "output_type": "display_data"
    },
    {
     "data": {
      "text/html": [
       "<div>\n",
       "<style scoped>\n",
       "    .dataframe tbody tr th:only-of-type {\n",
       "        vertical-align: middle;\n",
       "    }\n",
       "\n",
       "    .dataframe tbody tr th {\n",
       "        vertical-align: top;\n",
       "    }\n",
       "\n",
       "    .dataframe thead th {\n",
       "        text-align: right;\n",
       "    }\n",
       "</style>\n",
       "<table border=\"1\" class=\"dataframe\">\n",
       "  <thead>\n",
       "    <tr style=\"text-align: right;\">\n",
       "      <th></th>\n",
       "      <th>testscores;reading_4_2022</th>\n",
       "    </tr>\n",
       "  </thead>\n",
       "  <tbody>\n",
       "    <tr>\n",
       "      <th>train_r2</th>\n",
       "      <td>0.3811</td>\n",
       "    </tr>\n",
       "    <tr>\n",
       "      <th>train_root_mean_squared_error</th>\n",
       "      <td>5.9485</td>\n",
       "    </tr>\n",
       "  </tbody>\n",
       "</table>\n",
       "</div>"
      ],
      "text/plain": [
       "                               testscores;reading_4_2022\n",
       "train_r2                                          0.3811\n",
       "train_root_mean_squared_error                     5.9485"
      ]
     },
     "metadata": {},
     "output_type": "display_data"
    },
    {
     "data": {
      "text/html": [
       "<div>\n",
       "<style scoped>\n",
       "    .dataframe tbody tr th:only-of-type {\n",
       "        vertical-align: middle;\n",
       "    }\n",
       "\n",
       "    .dataframe tbody tr th {\n",
       "        vertical-align: top;\n",
       "    }\n",
       "\n",
       "    .dataframe thead th {\n",
       "        text-align: right;\n",
       "    }\n",
       "</style>\n",
       "<table border=\"1\" class=\"dataframe\">\n",
       "  <thead>\n",
       "    <tr style=\"text-align: right;\">\n",
       "      <th></th>\n",
       "      <th>testscores;reading_8_2022</th>\n",
       "    </tr>\n",
       "  </thead>\n",
       "  <tbody>\n",
       "    <tr>\n",
       "      <th>train_r2</th>\n",
       "      <td>0.5080</td>\n",
       "    </tr>\n",
       "    <tr>\n",
       "      <th>train_root_mean_squared_error</th>\n",
       "      <td>4.1417</td>\n",
       "    </tr>\n",
       "  </tbody>\n",
       "</table>\n",
       "</div>"
      ],
      "text/plain": [
       "                               testscores;reading_8_2022\n",
       "train_r2                                          0.5080\n",
       "train_root_mean_squared_error                     4.1417"
      ]
     },
     "metadata": {},
     "output_type": "display_data"
    }
   ],
   "source": [
    "for results in ten_fold_results:\n",
    "    print_results(*results)"
   ]
  },
  {
   "cell_type": "markdown",
   "id": "e09d91da",
   "metadata": {},
   "source": [
    "Five-fold still outperforms ten-fold _(also note that performance is substantially better than using the engagement data)_. We check the test performance:"
   ]
  },
  {
   "cell_type": "markdown",
   "id": "91da2a9d",
   "metadata": {},
   "source": [
    "<a id='baseline2_results'></a>\n",
    "\n",
    "### Baseline 2 Testing Results\n",
    "\n",
    "[(Back to top)](#baselines)"
   ]
  },
  {
   "cell_type": "code",
   "execution_count": 252,
   "id": "86ab69a8",
   "metadata": {
    "scrolled": false
   },
   "outputs": [
    {
     "data": {
      "text/html": [
       "<div>\n",
       "<style scoped>\n",
       "    .dataframe tbody tr th:only-of-type {\n",
       "        vertical-align: middle;\n",
       "    }\n",
       "\n",
       "    .dataframe tbody tr th {\n",
       "        vertical-align: top;\n",
       "    }\n",
       "\n",
       "    .dataframe thead th {\n",
       "        text-align: right;\n",
       "    }\n",
       "</style>\n",
       "<table border=\"1\" class=\"dataframe\">\n",
       "  <thead>\n",
       "    <tr style=\"text-align: right;\">\n",
       "      <th></th>\n",
       "      <th>testscores;math_4_2022</th>\n",
       "    </tr>\n",
       "  </thead>\n",
       "  <tbody>\n",
       "    <tr>\n",
       "      <th>test_r2</th>\n",
       "      <td>-0.0552</td>\n",
       "    </tr>\n",
       "    <tr>\n",
       "      <th>test_root_mean_squared_error</th>\n",
       "      <td>5.9152</td>\n",
       "    </tr>\n",
       "  </tbody>\n",
       "</table>\n",
       "</div>"
      ],
      "text/plain": [
       "                              testscores;math_4_2022\n",
       "test_r2                                      -0.0552\n",
       "test_root_mean_squared_error                  5.9152"
      ]
     },
     "metadata": {},
     "output_type": "display_data"
    },
    {
     "data": {
      "text/html": [
       "<div>\n",
       "<style scoped>\n",
       "    .dataframe tbody tr th:only-of-type {\n",
       "        vertical-align: middle;\n",
       "    }\n",
       "\n",
       "    .dataframe tbody tr th {\n",
       "        vertical-align: top;\n",
       "    }\n",
       "\n",
       "    .dataframe thead th {\n",
       "        text-align: right;\n",
       "    }\n",
       "</style>\n",
       "<table border=\"1\" class=\"dataframe\">\n",
       "  <thead>\n",
       "    <tr style=\"text-align: right;\">\n",
       "      <th></th>\n",
       "      <th>testscores;math_8_2022</th>\n",
       "    </tr>\n",
       "  </thead>\n",
       "  <tbody>\n",
       "    <tr>\n",
       "      <th>test_r2</th>\n",
       "      <td>0.2371</td>\n",
       "    </tr>\n",
       "    <tr>\n",
       "      <th>test_root_mean_squared_error</th>\n",
       "      <td>5.2873</td>\n",
       "    </tr>\n",
       "  </tbody>\n",
       "</table>\n",
       "</div>"
      ],
      "text/plain": [
       "                              testscores;math_8_2022\n",
       "test_r2                                       0.2371\n",
       "test_root_mean_squared_error                  5.2873"
      ]
     },
     "metadata": {},
     "output_type": "display_data"
    },
    {
     "data": {
      "text/html": [
       "<div>\n",
       "<style scoped>\n",
       "    .dataframe tbody tr th:only-of-type {\n",
       "        vertical-align: middle;\n",
       "    }\n",
       "\n",
       "    .dataframe tbody tr th {\n",
       "        vertical-align: top;\n",
       "    }\n",
       "\n",
       "    .dataframe thead th {\n",
       "        text-align: right;\n",
       "    }\n",
       "</style>\n",
       "<table border=\"1\" class=\"dataframe\">\n",
       "  <thead>\n",
       "    <tr style=\"text-align: right;\">\n",
       "      <th></th>\n",
       "      <th>testscores;reading_4_2022</th>\n",
       "    </tr>\n",
       "  </thead>\n",
       "  <tbody>\n",
       "    <tr>\n",
       "      <th>test_r2</th>\n",
       "      <td>-0.0838</td>\n",
       "    </tr>\n",
       "    <tr>\n",
       "      <th>test_root_mean_squared_error</th>\n",
       "      <td>6.7581</td>\n",
       "    </tr>\n",
       "  </tbody>\n",
       "</table>\n",
       "</div>"
      ],
      "text/plain": [
       "                              testscores;reading_4_2022\n",
       "test_r2                                         -0.0838\n",
       "test_root_mean_squared_error                     6.7581"
      ]
     },
     "metadata": {},
     "output_type": "display_data"
    },
    {
     "data": {
      "text/html": [
       "<div>\n",
       "<style scoped>\n",
       "    .dataframe tbody tr th:only-of-type {\n",
       "        vertical-align: middle;\n",
       "    }\n",
       "\n",
       "    .dataframe tbody tr th {\n",
       "        vertical-align: top;\n",
       "    }\n",
       "\n",
       "    .dataframe thead th {\n",
       "        text-align: right;\n",
       "    }\n",
       "</style>\n",
       "<table border=\"1\" class=\"dataframe\">\n",
       "  <thead>\n",
       "    <tr style=\"text-align: right;\">\n",
       "      <th></th>\n",
       "      <th>testscores;reading_8_2022</th>\n",
       "    </tr>\n",
       "  </thead>\n",
       "  <tbody>\n",
       "    <tr>\n",
       "      <th>test_r2</th>\n",
       "      <td>0.2338</td>\n",
       "    </tr>\n",
       "    <tr>\n",
       "      <th>test_root_mean_squared_error</th>\n",
       "      <td>4.4496</td>\n",
       "    </tr>\n",
       "  </tbody>\n",
       "</table>\n",
       "</div>"
      ],
      "text/plain": [
       "                              testscores;reading_8_2022\n",
       "test_r2                                          0.2338\n",
       "test_root_mean_squared_error                     4.4496"
      ]
     },
     "metadata": {},
     "output_type": "display_data"
    }
   ],
   "source": [
    "for results in five_fold_results:\n",
    "    print_results(*results, splits=['test'])"
   ]
  },
  {
   "cell_type": "markdown",
   "id": "1358928c",
   "metadata": {},
   "source": [
    "-----------"
   ]
  }
 ],
 "metadata": {
  "kernelspec": {
   "display_name": "Python 3 (ipykernel)",
   "language": "python",
   "name": "python3"
  },
  "language_info": {
   "codemirror_mode": {
    "name": "ipython",
    "version": 3
   },
   "file_extension": ".py",
   "mimetype": "text/x-python",
   "name": "python",
   "nbconvert_exporter": "python",
   "pygments_lexer": "ipython3",
   "version": "3.9.13"
  }
 },
 "nbformat": 4,
 "nbformat_minor": 5
}
