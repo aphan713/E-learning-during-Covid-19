{
 "cells": [
  {
   "cell_type": "code",
   "execution_count": 64,
   "id": "58f5e5b7",
   "metadata": {},
   "outputs": [],
   "source": [
    "from pathlib import Path\n",
    "\n",
    "import geopandas as gpd\n",
    "import pandas as pd\n",
    "from shapely.validation import make_valid\n",
    "from shapely.geometry import Point\n",
    "\n",
    "from tqdm import tqdm #&&&#\n"
   ]
  },
  {
   "cell_type": "code",
   "execution_count": 2,
   "id": "3cc5e105",
   "metadata": {},
   "outputs": [],
   "source": [
    "#data_dir_path = Path(__file__).parent.resolve() #&&&#\n",
    "data_dir_path = Path('.') #&&&#\n",
    "\n",
    "(data_dir_path / '_temp').mkdir(parents=False, exist_ok=True)\n"
   ]
  },
  {
   "cell_type": "code",
   "execution_count": 15,
   "id": "d2cc76e7",
   "metadata": {},
   "outputs": [],
   "source": [
    "if (data_dir_path / '_temp' / '_temp_state_level_locale_polygons.shp').exists():\n",
    "    state_level_locales_dataframe = gpd.read_file(data_dir_path / '_temp' / '_temp_state_level_locale_polygons.shp')\n",
    "    \n",
    "else:\n",
    "    locales_dataframe = gpd.read_file(data_dir_path / 'edge_locales' / 'edge_locale21_nces_all_us.shp')\n",
    "    locations_dataframe = gpd.read_file(data_dir_path / 'edge_locations' / 'EDGE_GEOCODE_PUBLICSCH_2021.shp')\n",
    "\n",
    "    locale_dict = {1: 'City', 2: 'Suburban', 3: 'Town', 4: 'Rural'}\n",
    "    locales_dataframe['localetype'] = locales_dataframe.LOCALE.apply(lambda l: locale_dict[int(l) // 10])\n",
    "\n",
    "    state_level_locale_polygon_data = []\n",
    "\n",
    "    for state in tqdm(locales_dataframe.STATEFP.unique()):\n",
    "        locale_state_dateframe = locales_dataframe[locales_dataframe.STATEFP == state]\n",
    "\n",
    "        for localetype in locale_dict.values():\n",
    "            localetype_dataframe = locale_state_dateframe[locale_state_dateframe.localetype == localetype]\n",
    "\n",
    "            intersected_geo = None\n",
    "            for geo in localetype_dataframe.geometry:\n",
    "                if not geo.is_valid:\n",
    "                    locale_geo = make_valid(geo)\n",
    "                else:\n",
    "                    locale_geo = geo\n",
    "\n",
    "                if intersected_geo is None:\n",
    "                    intersected_geo = locale_geo\n",
    "                else:\n",
    "                    intersected_geo = intersected_geo.union(locale_geo)\n",
    "\n",
    "            state_level_locale_polygon_data.append({'STATEFP': state,\n",
    "                                                    'LOCALETYPE': localetype,\n",
    "                                                    'geometry': intersected_geo})\n",
    "\n",
    "    state_level_locales_dataframe = gpd.geodataframe.GeoDataFrame(state_level_locale_polygon_data)\n",
    "    state_level_locales_dataframe.to_file(data_dir_path / '_temp' / '_temp_state_level_locale_polygons.shp')\n",
    "    del locales_dataframe\n",
    "    "
   ]
  },
  {
   "cell_type": "code",
   "execution_count": 38,
   "id": "8127194c",
   "metadata": {},
   "outputs": [],
   "source": [
    "zipcodes_dataframe = gpd.read_file(data_dir_path / 'zip_codes' / 'tl_2022_us_zcta520.shp')\n",
    "states_dataframe = gpd.read_file(data_dir_path / 'states' / 'tl_2022_us_state.shp')\n",
    "\n",
    "fips_state_code_dataframe = pd.read_csv(data_dir_path / 'fips_state_codes.csv')\n"
   ]
  },
  {
   "cell_type": "code",
   "execution_count": 48,
   "id": "89b9d171",
   "metadata": {},
   "outputs": [
    {
     "name": "stderr",
     "output_type": "stream",
     "text": [
      "33791it [04:34, 122.94it/s]\n"
     ]
    }
   ],
   "source": [
    "zipcodes_dataframe['STATEFP'] = None\n",
    "for zip_index, zip_row in tqdm(zipcodes_dataframe.iterrows(), total=len(zipcodes_dataframe)):\n",
    "    states = set()\n",
    "    for _, state_row in states_dataframe.iterrows():\n",
    "        if zip_row.geometry.intersects(state_row.geometry):\n",
    "            states.add(state_row.GEOID)\n",
    "    \n",
    "    zipcodes_dataframe.at[zip_index, 'STATEFP'] = list(states)\n",
    "            "
   ]
  },
  {
   "cell_type": "code",
   "execution_count": 81,
   "id": "7fd93420",
   "metadata": {},
   "outputs": [
    {
     "name": "stderr",
     "output_type": "stream",
     "text": [
      "                                                                                                                         \r"
     ]
    }
   ],
   "source": [
    "with tqdm(state_level_locales_dataframe.STATEFP.unique(), position=0, leave=False) as progress:\n",
    "    for state in progress:\n",
    "        state_string = fips_state_code_dataframe[fips_state_code_dataframe.STATEFP == int(state)].iloc[0].STATENAME\n",
    "\n",
    "        for localetype in locale_dict.values():\n",
    "            progress.set_postfix({'state': state_string, 'locale_type': localetype}, refresh=True)\n",
    "            state_level_locale_geo = state_level_locales_dataframe[(state_level_locales_dataframe.STATEFP == state) & \\\n",
    "                                                                   (state_level_locales_dataframe.LOCALETYPE == localetype)].iloc[0].geometry\n",
    "\n",
    "            if state_level_locale_geo is None:\n",
    "                continue\n",
    "\n",
    "            zip_weights = []\n",
    "            for _, zip_row in zipcodes_dataframe.iterrows():\n",
    "                if state in zip_row.STATEFP:\n",
    "                    inter_area = state_level_locale_geo.intersection(zip_row.geometry).area\n",
    "                    zip_weights.append({'ZCTA5CE20': zip_row.ZCTA5CE20,\n",
    "                                        'ALLOC_AREA_FRACTARGET': inter_area / state_level_locale_geo.area,\n",
    "                                        'ALLOC_AREA_FRACSOURCE': inter_area / zip_row.geometry.area,\n",
    "                                       })           \n",
    "            pd.DataFrame(zip_weights).to_csv(data_dir_path / '_temp' / '_temp_{}-{}_zipcode_weights.csv'.format(state, localetype), index=False)\n"
   ]
  },
  {
   "cell_type": "markdown",
   "id": "1ada8860",
   "metadata": {},
   "source": [
    "----------------"
   ]
  }
 ],
 "metadata": {
  "kernelspec": {
   "display_name": "Python 3 (ipykernel)",
   "language": "python",
   "name": "python3"
  },
  "language_info": {
   "codemirror_mode": {
    "name": "ipython",
    "version": 3
   },
   "file_extension": ".py",
   "mimetype": "text/x-python",
   "name": "python",
   "nbconvert_exporter": "python",
   "pygments_lexer": "ipython3",
   "version": "3.9.13"
  }
 },
 "nbformat": 4,
 "nbformat_minor": 5
}
